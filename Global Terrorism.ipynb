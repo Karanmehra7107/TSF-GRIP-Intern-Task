{
 "cells": [
  {
   "cell_type": "markdown",
   "metadata": {},
   "source": [
    "# The Spark Foundation\n",
    "## By: Karan \n",
    "## Task-4 Global Terrorism\n",
    "### Problem statment\n",
    "#### ● Perform ‘Exploratory Data Analysis’ on dataset ‘Global Terrorism’\n",
    "#### ● As a security/defense analyst, try to find out the hot zone of terrorism.\n",
    "#### ● What all security issues and insights you can derive by EDA?\n",
    "#### ● dataset: https://bit.ly/2TK5Xn5"
   ]
  },
  {
   "cell_type": "markdown",
   "metadata": {},
   "source": [
    "# Importing libraries"
   ]
  },
  {
   "cell_type": "code",
   "execution_count": 1,
   "metadata": {},
   "outputs": [
    {
     "ename": "ModuleNotFoundError",
     "evalue": "No module named 'mpl_toolkits.basemap'",
     "output_type": "error",
     "traceback": [
      "\u001b[1;31m---------------------------------------------------------------------------\u001b[0m",
      "\u001b[1;31mModuleNotFoundError\u001b[0m                       Traceback (most recent call last)",
      "\u001b[1;32m<ipython-input-1-45bd5346f4e4>\u001b[0m in \u001b[0;36m<module>\u001b[1;34m\u001b[0m\n\u001b[0;32m      6\u001b[0m \u001b[1;32mimport\u001b[0m \u001b[0mfolium\u001b[0m\u001b[1;33m.\u001b[0m\u001b[0mplugins\u001b[0m\u001b[1;33m\u001b[0m\u001b[1;33m\u001b[0m\u001b[0m\n\u001b[0;32m      7\u001b[0m \u001b[1;32mimport\u001b[0m \u001b[0mio\u001b[0m\u001b[1;33m\u001b[0m\u001b[1;33m\u001b[0m\u001b[0m\n\u001b[1;32m----> 8\u001b[1;33m \u001b[1;32mfrom\u001b[0m \u001b[0mmpl_toolkits\u001b[0m\u001b[1;33m.\u001b[0m\u001b[0mbasemap\u001b[0m \u001b[1;32mimport\u001b[0m \u001b[0mBasemap\u001b[0m\u001b[1;33m\u001b[0m\u001b[1;33m\u001b[0m\u001b[0m\n\u001b[0m\u001b[0;32m      9\u001b[0m \u001b[1;32mfrom\u001b[0m \u001b[0mmatplotlib\u001b[0m \u001b[1;32mimport\u001b[0m \u001b[0manimation\u001b[0m\u001b[1;33m,\u001b[0m\u001b[0mrc\u001b[0m\u001b[1;33m\u001b[0m\u001b[1;33m\u001b[0m\u001b[0m\n\u001b[0;32m     10\u001b[0m \u001b[1;32mimport\u001b[0m \u001b[0mbase64\u001b[0m\u001b[1;33m\u001b[0m\u001b[1;33m\u001b[0m\u001b[0m\n",
      "\u001b[1;31mModuleNotFoundError\u001b[0m: No module named 'mpl_toolkits.basemap'"
     ]
    }
   ],
   "source": [
    "import pandas as pd\n",
    "import numpy as np\n",
    "import matplotlib.pyplot as plt\n",
    "import seaborn as sns\n",
    "import folium\n",
    "import folium.plugins\n",
    "import io\n",
    "from mpl_toolkits.basemap import Basemap\n",
    "from matplotlib import animation,rc\n",
    "import base64"
   ]
  },
  {
   "cell_type": "markdown",
   "metadata": {},
   "source": [
    "# Reading csv"
   ]
  },
  {
   "cell_type": "code",
   "execution_count": null,
   "metadata": {},
   "outputs": [],
   "source": [
    "data=pd.read_csv(\"globalterrorismdb.csv\",encoding='ISO-8859-1')\n",
    "data"
   ]
  },
  {
   "cell_type": "markdown",
   "metadata": {},
   "source": [
    "# Dropping columns where more than 160000 records are empty\n"
   ]
  },
  {
   "cell_type": "code",
   "execution_count": null,
   "metadata": {},
   "outputs": [],
   "source": [
    "data_new = data.dropna(thresh=160000,axis=1)\n"
   ]
  },
  {
   "cell_type": "code",
   "execution_count": null,
   "metadata": {},
   "outputs": [],
   "source": [
    "data_new"
   ]
  },
  {
   "cell_type": "code",
   "execution_count": null,
   "metadata": {},
   "outputs": [],
   "source": [
    "data_new.shape"
   ]
  },
  {
   "cell_type": "code",
   "execution_count": null,
   "metadata": {},
   "outputs": [],
   "source": [
    "data_new.isnull().sum()"
   ]
  },
  {
   "cell_type": "markdown",
   "metadata": {},
   "source": [
    "# EDA"
   ]
  },
  {
   "cell_type": "code",
   "execution_count": null,
   "metadata": {},
   "outputs": [],
   "source": [
    "data_new['casualities']=data_new['nkill']+data_new['nwound']\n",
    "\n",
    "print('Country with Highest Terrorist Attacks:',data_new['country_txt'].value_counts().index[0])\n",
    "print('Regions with Highest Terrorist Attacks:',data_new['region_txt'].value_counts().index[0])\n",
    "print('Maximum people killed in an attack are:',data_new['nkill'].max(),'that took place in',data_new.loc[data_new['nkill'].idxmax()].country_txt)\n",
    "print(\"Year with the most attacks:\",data_new['iyear'].value_counts().idxmax())\n",
    "print(\"Month with the most attacks:\",data_new['imonth'].value_counts().idxmax())\n",
    "print(\"Most Attack Types:\",data_new['attacktype1_txt'].value_counts().idxmax())"
   ]
  },
  {
   "cell_type": "markdown",
   "metadata": {},
   "source": [
    "# Terrorist Groups with most attacks"
   ]
  },
  {
   "cell_type": "code",
   "execution_count": null,
   "metadata": {},
   "outputs": [],
   "source": [
    "sns.barplot(data_new['gname'].value_counts()[1:10].values,data_new['gname'].value_counts()[1:10].index,palette='Set1')\n",
    "plt.xticks(rotation=90)\n",
    "fig=plt.gcf()\n",
    "fig.set_size_inches(10,8)\n",
    "plt.title('Terrorist Groups with Highest Terror Attacks')\n",
    "plt.show()\n"
   ]
  },
  {
   "cell_type": "markdown",
   "metadata": {},
   "source": [
    "# Countries with highest terrorist attacks"
   ]
  },
  {
   "cell_type": "code",
   "execution_count": null,
   "metadata": {},
   "outputs": [],
   "source": [
    "print(f\"The highest terrorist attacks were commited in {data_new.country_txt.value_counts().index[0]} with {data_new.country.value_counts().max()} attacks\")\n",
    "\n",
    "print('\\nThe other 9 countries with highest terrorist attacks are:')\n",
    "for i in range(1,10):\n",
    "    print(f\"{i+1}. {data_new.country_txt.value_counts().index[i]} with {data_new.country_txt.value_counts()[i]} attacks\")\n",
    "\n",
    "#Visualization\n",
    "plt.subplots(figsize=(15,6))\n",
    "sns.barplot(data_new['country_txt'].value_counts()[:10].index,data_new['country_txt'].value_counts()[:10].values,palette='Set1')\n",
    "plt.title('Top Countries Affected')\n",
    "plt.xlabel('Countries')\n",
    "plt.ylabel('Count')\n",
    "plt.xticks(rotation= 90)\n",
    "plt.show()"
   ]
  },
  {
   "cell_type": "markdown",
   "metadata": {},
   "source": [
    "# Number Of Terrorist Activities per Year"
   ]
  },
  {
   "cell_type": "code",
   "execution_count": null,
   "metadata": {},
   "outputs": [],
   "source": [
    "f, ax = plt.subplots(figsize=(10, 7))\n",
    "plt.title('Number Of Terrorist Activities per Year')\n",
    "sns.despine(f)\n",
    "sns.distplot(data_new['iyear'], bins=20,color=\"g\")"
   ]
  },
  {
   "cell_type": "markdown",
   "metadata": {},
   "source": [
    "## Here we can observe the number of terrorist activities have gone up sharply after 2010."
   ]
  },
  {
   "cell_type": "markdown",
   "metadata": {},
   "source": [
    "# Terrorist Activities by Region each Year"
   ]
  },
  {
   "cell_type": "code",
   "execution_count": null,
   "metadata": {},
   "outputs": [],
   "source": [
    "pd.crosstab(data_new.iyear, data_new.region_txt).plot(kind='area',figsize=(15,6))\n",
    "plt.title('Terrorist Activities by Region each Year')\n",
    "plt.ylabel('Number of Attacks')\n",
    "plt.show()\n"
   ]
  },
  {
   "cell_type": "markdown",
   "metadata": {},
   "source": [
    "# Number Of Casualities Each Year"
   ]
  },
  {
   "cell_type": "code",
   "execution_count": null,
   "metadata": {},
   "outputs": [],
   "source": [
    "plt.subplots(figsize=(10,7))\n",
    "year_casual = data_new.groupby('iyear').casualities.sum().to_frame().reset_index()\n",
    "year_casual.columns = ['Year','Casualities']\n",
    "plt.title('Number Of Casualities Each Year')\n",
    "sns.lineplot(x='Year', y='Casualities', data=year_casual,palette=\"Set2\",color=\"g\")"
   ]
  },
  {
   "cell_type": "markdown",
   "metadata": {},
   "source": [
    "# Most common target"
   ]
  },
  {
   "cell_type": "code",
   "execution_count": null,
   "metadata": {},
   "outputs": [],
   "source": [
    "plt.subplots(figsize=(15,6))\n",
    "sns.countplot(data_new['targtype1_txt'],palette='Set1',order=data_new['targtype1_txt'].value_counts().index)\n",
    "plt.xticks(rotation=90)\n",
    "plt.title('Most common target')\n",
    "plt.show()"
   ]
  },
  {
   "cell_type": "markdown",
   "metadata": {},
   "source": [
    "# World-wide map of Terrorism"
   ]
  },
  {
   "cell_type": "markdown",
   "metadata": {},
   "source": [
    "# Attacks have been grouped in three different size and three different color.The size and colors are based on the Killed numbers of each attack.You can check this logic in the code below:"
   ]
  },
  {
   "cell_type": "code",
   "execution_count": null,
   "metadata": {},
   "outputs": [],
   "source": [
    "terror_fol=data_new.copy()\n",
    "terror_fol.dropna(subset=['latitude','longitude'],inplace=True)\n",
    "location_fol=terror_fol[['latitude','longitude']][:8000]\n",
    "country_fol=terror_fol['country_txt'][:8000]\n",
    "city_fol=terror_fol['city'][:8000]\n",
    "killed_fol=terror_fol['nkill'][:8000]\n",
    "wound_fol=terror_fol['nwound'][:8000]\n",
    "def color_point(x):\n",
    "    if x>=30:\n",
    "        color='red'\n",
    "    elif ((x>0 and x<30)):\n",
    "        color='blue'\n",
    "    else:\n",
    "        color='orange'\n",
    "    return color   \n",
    "def point_size(x):\n",
    "    if (x>30 and x<100):\n",
    "        size=2\n",
    "    elif (x>=100 and x<500):\n",
    "        size=8\n",
    "    elif x>=500:\n",
    "        size=16\n",
    "    else:\n",
    "        size=0.5\n",
    "    return size   \n",
    "map2 = folium.Map(location=[30,0],tiles='cartodbpositron',zoom_start=2)\n",
    "for point in location_fol.index:\n",
    "    info='<b>Country: </b>'+str(country_fol[point])+'<br><b>City: </b>: '+str(city_fol[point])+'<br><b>Killed </b>: '+str(killed_fol[point])+'<br><b>Wounded</b> : '+str(wound_fol[point])\n",
    "    iframe = folium.IFrame(html=info, width=200, height=200)\n",
    "    folium.CircleMarker(list(location_fol.loc[point].values),popup=folium.Popup(iframe),radius=point_size(killed_fol[point]),color=color_point(killed_fol[point])).add_to(map2)\n",
    "map2"
   ]
  },
  {
   "cell_type": "markdown",
   "metadata": {},
   "source": [
    "# Click on markers for more information.\n",
    "## Focussing on India\n",
    "## Fron this part on, we do the same activities and plots, for India."
   ]
  },
  {
   "cell_type": "markdown",
   "metadata": {},
   "source": [
    "# Terror Activities in India"
   ]
  },
  {
   "cell_type": "code",
   "execution_count": null,
   "metadata": {},
   "outputs": [],
   "source": [
    "terror_india=data_new[data_new['country_txt']=='India']\n",
    "terror_india_fol=terror_india.copy()\n",
    "terror_india_fol.dropna(subset=['latitude','longitude'],inplace=True)\n",
    "location_ind=terror_india_fol[['latitude','longitude']][:5000]\n",
    "city_ind=terror_india_fol['city'][:5000]\n",
    "killed_ind=terror_india_fol['nkill'][:5000]\n",
    "wound_ind=terror_india_fol['nwound'][:5000]\n",
    "target_ind=terror_india_fol['targtype1_txt'][:5000]\n",
    "\n",
    "map4 = folium.Map(location=[20.59, 78.96],tiles='cartodbpositron',zoom_start=4.5)\n",
    "for point in location_ind.index:\n",
    "    folium.CircleMarker(list(location_ind.loc[point].values),popup='<b>City: </b>'+str(city_ind[point])+'<br><b>Killed: </b>'+str(killed_ind[point])+\\\n",
    "                        '<br><b>Injured: </b>'+str(wound_ind[point])+'<br><b>Target: </b>'+str(target_ind[point]),radius=point_size(killed_ind[point]),color=color_point(killed_ind[point]),fill_color=color_point(killed_ind[point])).add_to(map4)\n",
    "map4"
   ]
  },
  {
   "attachments": {},
   "cell_type": "markdown",
   "metadata": {},
   "source": [
    "# How did terrorism spread in India"
   ]
  },
  {
   "cell_type": "code",
   "execution_count": null,
   "metadata": {},
   "outputs": [],
   "source": []
  },
  {
   "cell_type": "code",
   "execution_count": null,
   "metadata": {},
   "outputs": [],
   "source": []
  }
 ],
 "metadata": {
  "kernelspec": {
   "display_name": "Python 3",
   "language": "python",
   "name": "python3"
  },
  "language_info": {
   "codemirror_mode": {
    "name": "ipython",
    "version": 3
   },
   "file_extension": ".py",
   "mimetype": "text/x-python",
   "name": "python",
   "nbconvert_exporter": "python",
   "pygments_lexer": "ipython3",
   "version": "3.8.3"
  }
 },
 "nbformat": 4,
 "nbformat_minor": 4
}
